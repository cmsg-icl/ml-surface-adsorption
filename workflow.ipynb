{
 "cells": [
  {
   "cell_type": "markdown",
   "id": "5b62f737",
   "metadata": {},
   "source": [
    "# Worflow to train the ML model\n",
    "\n",
    "This workflow performs the following tasks:\n",
    "- download the substrate structures from materials project\n",
    "- generate the adsorbate structures (pymatgen)\n",
    "- generate the adsorption structures\n",
    "- write the CRYSTAL inputs\n",
    "- run the adsorbate+substrate CRYSTAL calculations\n",
    "- run the adsorbate and substrate CRYSTAL calculations (GHOST atoms)\n",
    "- calculate the E_ads (BSSE corrected)"
   ]
  },
  {
   "cell_type": "code",
   "execution_count": 1,
   "id": "46af4c40",
   "metadata": {},
   "outputs": [],
   "source": [
    "# crystal_functions imports\n",
    "from file_readwrite import write_cry_input, write_cry_gui\n",
    "from file_readwrite import Crystal_input, Crystal_output\n",
    "from adsorb import sub_ads_indices\n",
    "from calculate import cry_ads_energy\n",
    "from execute import runcry\n",
    "\n",
    "# pymatgen imports\n",
    "from pymatgen.core.structure import Molecule, Structure, Lattice\n",
    "from pymatgen.core.surface import SlabGenerator, generate_all_slabs\n",
    "from pymatgen.symmetry.analyzer import SpacegroupAnalyzer\n",
    "from pymatgen.analysis.adsorption import AdsorbateSiteFinder\n",
    "from pymatgen.ext.matproj import MPRester\n",
    "\n",
    "# other imports\n",
    "import shutil\n",
    "import pandas as pd\n",
    "import numpy as np"
   ]
  },
  {
   "cell_type": "markdown",
   "id": "dde6d1e3",
   "metadata": {},
   "source": [
    "### Make adsorbates\n",
    "Make the adsorbate structures using the Molecule class in pymatgen"
   ]
  },
  {
   "cell_type": "code",
   "execution_count": 2,
   "id": "bb925a62",
   "metadata": {},
   "outputs": [],
   "source": [
    "O = Molecule('O',[[0.0, 0.0, 0.0]])\n",
    "CO = Molecule('CO',[[0.0, 0.0, 0.0],[ 0.0, 0.0, 1.128]])\n",
    "H2O = Molecule('HHO',[[0.76,0.00,0.50],[0.76, 0.00,-0.50],[0.0, 0.0, 0.0]])\n",
    "adsorbates = [O,CO,H2O]\n",
    "adsorbates = [O] #for testing purpouses"
   ]
  },
  {
   "cell_type": "markdown",
   "id": "c649d107",
   "metadata": {},
   "source": [
    "### Make substrates"
   ]
  },
  {
   "cell_type": "markdown",
   "id": "5da14270",
   "metadata": {},
   "source": [
    "#### Bulk\n",
    "Download the bulk structures from the Materials Project"
   ]
  },
  {
   "cell_type": "code",
   "execution_count": 3,
   "id": "082a8281",
   "metadata": {},
   "outputs": [],
   "source": [
    "with MPRester(\"My-ID\") as m:    \n",
    "    cu = m.get_structure_by_material_id(\"mp-30\")\n",
    "    mgo = m.get_structure_by_material_id(\"mp-1265\")\n",
    "    rutile = m.get_structure_by_material_id(\"mp-2657\")\n",
    "materials = [cu,mgo,rutile]\n",
    "materials = [cu] #for testing purpouses "
   ]
  },
  {
   "cell_type": "markdown",
   "id": "c34dbdfa",
   "metadata": {},
   "source": [
    "Ensure the conventional cell is used"
   ]
  },
  {
   "cell_type": "code",
   "execution_count": 4,
   "id": "3efd62ad",
   "metadata": {},
   "outputs": [],
   "source": [
    "bulks = []\n",
    "substrates = []\n",
    "for material in materials:\n",
    "    bulks.append(SpacegroupAnalyzer(material).get_conventional_standard_structure())"
   ]
  },
  {
   "cell_type": "markdown",
   "id": "a4c0e4a7",
   "metadata": {},
   "source": [
    "#### Slab\n",
    "Generate the slabs using the pymatgen SlabGenerator function."
   ]
  },
  {
   "cell_type": "code",
   "execution_count": 5,
   "id": "6474ff6f",
   "metadata": {},
   "outputs": [],
   "source": [
    "substrates =[]\n",
    "for bulk in bulks:\n",
    "    slabs = generate_all_slabs(bulk, max_index=1, min_slab_size=2., min_vacuum_size=10.0, \n",
    "                                   center_slab=False, symmetrize=True, in_unit_planes=False) \n",
    "    substrates.extend(slabs)"
   ]
  },
  {
   "cell_type": "markdown",
   "id": "c66cbbce",
   "metadata": {},
   "source": [
    "### Adsorb\n",
    "Place the adsorbate on both surfaces of the slab (symmetric sites)"
   ]
  },
  {
   "cell_type": "code",
   "execution_count": 6,
   "id": "c4922d2d",
   "metadata": {},
   "outputs": [],
   "source": [
    "sub_composition = []\n",
    "ads_composition = []\n",
    "miller_indices = []    \n",
    "n_layers = []\n",
    "sub_ads_structures = []\n",
    "for substrate in substrates:\n",
    "    for adsorbate in adsorbates:\n",
    "        adsorption_structures = AdsorbateSiteFinder(substrate).adsorb_both_surfaces(adsorbate,repeat=[1,1,1])\n",
    "        sites = AdsorbateSiteFinder(substrate).find_adsorption_sites()    \n",
    "        for i,adsorption_structure in enumerate(adsorption_structures):\n",
    "            miller_indices.append(adsorption_structure.miller_index)\n",
    "            n_layers.append(len(np.unique(substrate.cart_coords[:,2])))  \n",
    "            sub_composition.append(substrate.composition.reduced_formula)\n",
    "            ads_composition.append(str(adsorbate.composition.hill_formula).replace(\" \", \"\"))\n",
    "            sub_ads_structures.append(adsorption_structure)"
   ]
  },
  {
   "cell_type": "markdown",
   "id": "e9dc1da5",
   "metadata": {},
   "source": [
    "### Prepare inputs (geometry optimisation)\n",
    "Define CRYSTAL input parameters."
   ]
  },
  {
   "cell_type": "code",
   "execution_count": 12,
   "id": "791b0305",
   "metadata": {},
   "outputs": [],
   "source": [
    "geom_block = ['Adsorption tests\\n','EXTERNAL\\n','EXTPRT\\n']\n",
    "bs_block = ['BASISSET\\n', 'STO-3G\\n']\n",
    "func_block = ['DFT\\n', 'B3LYP\\n', 'XXLGRID\\n', 'ENDDFT\\n']\n",
    "scf_block = [['TOLINTEG\\n', '5 5 5 5 10\\n'],\n",
    "             ['SHRINK\\n', '6 12\\n'],\n",
    "             ['MAXCYCLE\\n', '20\\n'],\n",
    "             ['FMIXING\\n', '70\\n'],\n",
    "             'DIIS\\n',\n",
    "             'ENDSCF\\n']"
   ]
  },
  {
   "cell_type": "markdown",
   "id": "60d92502",
   "metadata": {},
   "source": [
    "#### Write inputs\n",
    "Write the inputs to file."
   ]
  },
  {
   "cell_type": "code",
   "execution_count": 27,
   "id": "9a05baf2",
   "metadata": {},
   "outputs": [],
   "source": [
    "file_names = []\n",
    "for i,structure in enumerate(sub_ads_structures):\n",
    "    input_name = 'data/'+str(sub_composition[i]).replace(\" \", \"\")+'_'+str(ads_composition[i]).replace(\" \", \"\")+'_' \\\n",
    "               +''.join(str(x) for x in structure.miller_index)+'_'+str(i+1)+'.d12'\n",
    "    file_names.append(input_name[:-4])\n",
    "    write_cry_input(input_name,crystal_blocks=[geom_block,bs_block,func_block,scf_block],external_obj=structure)"
   ]
  },
  {
   "cell_type": "markdown",
   "id": "30b60b32",
   "metadata": {},
   "source": [
    "### Run the calculations\n",
    "Use the crystal_functions runcry function to execute CRYSTAL (please ensure the path to your runcry17 is defined in execute.runcry()"
   ]
  },
  {
   "cell_type": "code",
   "execution_count": 14,
   "id": "78377a56",
   "metadata": {},
   "outputs": [],
   "source": [
    "for cry_input in file_names:\n",
    "    runcry(cry_input)"
   ]
  },
  {
   "cell_type": "markdown",
   "id": "4a58725e",
   "metadata": {},
   "source": [
    "### Read the optimised geometry\n",
    "Use the crystal_functions Crystal_output class to extract the final energy."
   ]
  },
  {
   "cell_type": "code",
   "execution_count": 29,
   "id": "d5108619",
   "metadata": {},
   "outputs": [],
   "source": [
    "E_full_system = []\n",
    "for cry_input in file_names:\n",
    "    cry_output = Crystal_output(cry_input+'.out')\n",
    "    if cry_output.converged == True:\n",
    "        E_full_system.append(cry_output.final_energy()) "
   ]
  },
  {
   "cell_type": "markdown",
   "id": "616c0c70",
   "metadata": {},
   "source": [
    "### Prepare inputs for the BSSE calculations\n",
    "Generate the inputs for the BSSE calculation. The indices of the GHOST atoms are obtained from the pymatgen.core.structure.Slab object ('adsorbate' and 'substrate')."
   ]
  },
  {
   "cell_type": "code",
   "execution_count": 18,
   "id": "6f624c38",
   "metadata": {},
   "outputs": [],
   "source": [
    "for i,cry_input in enumerate(file_names):\n",
    "    indices = sub_ads_indices(sub_ads_structures[i])\n",
    "    #Substrate        \n",
    "    bsse_sub_inp = Crystal_input(cry_input+'.d12')\n",
    "    bsse_sub_inp.add_ghost(indices['adsorbate'])\n",
    "    bsse_sub_inp.opt_to_sp()\n",
    "    bsse_sub_inp_name = cry_input+'_BSSE_sub.d12'\n",
    "    write_cry_input(bsse_sub_inp_name,bsse_sub_inp)\n",
    "\n",
    "    shutil.copy(cry_input+'.gui',cry_input+'_BSSE_sub.gui')\n",
    "\n",
    "    #Adsorbate\n",
    "    bsse_ads_inp = Crystal_input(cry_input+'.d12')\n",
    "    bsse_ads_inp.add_ghost(indices['substrate'])\n",
    "    bsse_sub_inp.opt_to_sp()\n",
    "    bsse_ads_inp_name = cry_input+'_BSSE_ads.d12'\n",
    "    write_cry_input(bsse_ads_inp_name,bsse_ads_inp)\n",
    "\n",
    "    shutil.copy(cry_input+'.gui',cry_input+'_BSSE_ads.gui')"
   ]
  },
  {
   "cell_type": "markdown",
   "id": "aa51117f",
   "metadata": {},
   "source": [
    "### Run the BSSE calculations\n",
    "Use the crystal_functions runcry function to execute CRYSTAL (please ensure the path to your runcry17 is defined in execute.runcry()"
   ]
  },
  {
   "cell_type": "code",
   "execution_count": 33,
   "id": "5805b446",
   "metadata": {},
   "outputs": [],
   "source": [
    "E_sub_BSSE = []\n",
    "E_ads_BSSE = []\n",
    "for i,cry_input in enumerate(file_names):\n",
    "    runcry(cry_input+'_BSSE_sub')\n",
    "    cry_BSSE_sub_output = Crystal_output(cry_input+'_BSSE_sub.out')\n",
    "    if cry_BSSE_sub_output.converged == True:\n",
    "        E_sub_BSSE.append(cry_BSSE_sub_output.final_energy())\n",
    "    \n",
    "    \n",
    "    runcry(cry_input+'_BSSE_ads')\n",
    "    cry_BSSE_ads_output = Crystal_output(cry_input+'_BSSE_ads.out')\n",
    "    if cry_BSSE_ads_output.converged == True:\n",
    "        E_ads_BSSE.append(cry_BSSE_ads_output.final_energy())"
   ]
  },
  {
   "cell_type": "markdown",
   "id": "c60338a0",
   "metadata": {},
   "source": [
    "### Calculate the adsorption energy\n",
    "Use the crystal_functions cry_ads_energy function to get the adsorption energy (BSSE corrected)."
   ]
  },
  {
   "cell_type": "code",
   "execution_count": 35,
   "id": "0bd64af2",
   "metadata": {},
   "outputs": [],
   "source": [
    "E_adsorption = []\n",
    "for i in range(len(file_names)):\n",
    "    E_adsorption.append(cry_ads_energy(E_full_system[i],E_sub_BSSE[i],E_ads_BSSE[i]))"
   ]
  },
  {
   "cell_type": "markdown",
   "id": "9c106eb2",
   "metadata": {},
   "source": [
    "### Create Dataframe"
   ]
  },
  {
   "cell_type": "code",
   "execution_count": 39,
   "id": "75f4f786",
   "metadata": {},
   "outputs": [
    {
     "data": {
      "text/html": [
       "<div>\n",
       "<style scoped>\n",
       "    .dataframe tbody tr th:only-of-type {\n",
       "        vertical-align: middle;\n",
       "    }\n",
       "\n",
       "    .dataframe tbody tr th {\n",
       "        vertical-align: top;\n",
       "    }\n",
       "\n",
       "    .dataframe thead th {\n",
       "        text-align: right;\n",
       "    }\n",
       "</style>\n",
       "<table border=\"1\" class=\"dataframe\">\n",
       "  <thead>\n",
       "    <tr style=\"text-align: right;\">\n",
       "      <th></th>\n",
       "      <th>File name</th>\n",
       "      <th>Substrate</th>\n",
       "      <th>N layers</th>\n",
       "      <th>Adsorbate</th>\n",
       "      <th>Miller Indices</th>\n",
       "      <th>E adsorption (BSSE)</th>\n",
       "      <th>E sub (ads ghost)</th>\n",
       "      <th>E ads (ads ghost)</th>\n",
       "      <th>E full system</th>\n",
       "    </tr>\n",
       "  </thead>\n",
       "  <tbody>\n",
       "    <tr>\n",
       "      <th>0</th>\n",
       "      <td>data/Cu_O_100_1</td>\n",
       "      <td>Cu</td>\n",
       "      <td>1</td>\n",
       "      <td>O</td>\n",
       "      <td>(1, 1, 1)</td>\n",
       "      <td>2409.283222</td>\n",
       "      <td>-47341.648962</td>\n",
       "      <td>-50263.955891</td>\n",
       "      <td>-95196.321631</td>\n",
       "    </tr>\n",
       "    <tr>\n",
       "      <th>1</th>\n",
       "      <td>data/Cu_O_100_2</td>\n",
       "      <td>Cu</td>\n",
       "      <td>1</td>\n",
       "      <td>O</td>\n",
       "      <td>(1, 1, 1)</td>\n",
       "      <td>-11638.113883</td>\n",
       "      <td>-83509.646796</td>\n",
       "      <td>-82921.005588</td>\n",
       "      <td>-178068.766266</td>\n",
       "    </tr>\n",
       "    <tr>\n",
       "      <th>2</th>\n",
       "      <td>data/Cu_O_100_3</td>\n",
       "      <td>Cu</td>\n",
       "      <td>1</td>\n",
       "      <td>O</td>\n",
       "      <td>(1, 1, 1)</td>\n",
       "      <td>632.897215</td>\n",
       "      <td>-44125.322377</td>\n",
       "      <td>-4025.968968</td>\n",
       "      <td>-47518.394130</td>\n",
       "    </tr>\n",
       "    <tr>\n",
       "      <th>3</th>\n",
       "      <td>data/Cu_O_100_4</td>\n",
       "      <td>Cu</td>\n",
       "      <td>2</td>\n",
       "      <td>O</td>\n",
       "      <td>(1, 1, 0)</td>\n",
       "      <td>12274.686627</td>\n",
       "      <td>-87421.473073</td>\n",
       "      <td>-92809.964171</td>\n",
       "      <td>-167956.750617</td>\n",
       "    </tr>\n",
       "    <tr>\n",
       "      <th>4</th>\n",
       "      <td>data/Cu_O_100_5</td>\n",
       "      <td>Cu</td>\n",
       "      <td>2</td>\n",
       "      <td>O</td>\n",
       "      <td>(1, 1, 0)</td>\n",
       "      <td>13841.186530</td>\n",
       "      <td>-89071.485326</td>\n",
       "      <td>-92285.435147</td>\n",
       "      <td>-167515.733942</td>\n",
       "    </tr>\n",
       "    <tr>\n",
       "      <th>5</th>\n",
       "      <td>data/Cu_O_100_6</td>\n",
       "      <td>Cu</td>\n",
       "      <td>2</td>\n",
       "      <td>O</td>\n",
       "      <td>(1, 1, 0)</td>\n",
       "      <td>-9386.445718</td>\n",
       "      <td>-86475.931476</td>\n",
       "      <td>-87026.095877</td>\n",
       "      <td>-182888.473072</td>\n",
       "    </tr>\n",
       "    <tr>\n",
       "      <th>6</th>\n",
       "      <td>data/Cu_O_100_7</td>\n",
       "      <td>Cu</td>\n",
       "      <td>2</td>\n",
       "      <td>O</td>\n",
       "      <td>(1, 1, 0)</td>\n",
       "      <td>-11638.113883</td>\n",
       "      <td>-83509.646796</td>\n",
       "      <td>-82921.005588</td>\n",
       "      <td>-178068.766266</td>\n",
       "    </tr>\n",
       "    <tr>\n",
       "      <th>7</th>\n",
       "      <td>data/Cu_O_100_8</td>\n",
       "      <td>Cu</td>\n",
       "      <td>2</td>\n",
       "      <td>O</td>\n",
       "      <td>(1, 0, 0)</td>\n",
       "      <td>-10107.443535</td>\n",
       "      <td>-86290.160382</td>\n",
       "      <td>-86199.967101</td>\n",
       "      <td>-182597.571017</td>\n",
       "    </tr>\n",
       "    <tr>\n",
       "      <th>8</th>\n",
       "      <td>data/Cu_O_100_9</td>\n",
       "      <td>Cu</td>\n",
       "      <td>2</td>\n",
       "      <td>O</td>\n",
       "      <td>(1, 0, 0)</td>\n",
       "      <td>1442.160954</td>\n",
       "      <td>-88251.935834</td>\n",
       "      <td>-4025.501840</td>\n",
       "      <td>-90835.276720</td>\n",
       "    </tr>\n",
       "    <tr>\n",
       "      <th>9</th>\n",
       "      <td>data/Cu_O_100_10</td>\n",
       "      <td>Cu</td>\n",
       "      <td>2</td>\n",
       "      <td>O</td>\n",
       "      <td>(1, 0, 0)</td>\n",
       "      <td>-10796.145444</td>\n",
       "      <td>-86251.217692</td>\n",
       "      <td>-86443.874040</td>\n",
       "      <td>-183491.237176</td>\n",
       "    </tr>\n",
       "  </tbody>\n",
       "</table>\n",
       "</div>"
      ],
      "text/plain": [
       "          File name Substrate  N layers Adsorbate Miller Indices  \\\n",
       "0   data/Cu_O_100_1        Cu         1         O      (1, 1, 1)   \n",
       "1   data/Cu_O_100_2        Cu         1         O      (1, 1, 1)   \n",
       "2   data/Cu_O_100_3        Cu         1         O      (1, 1, 1)   \n",
       "3   data/Cu_O_100_4        Cu         2         O      (1, 1, 0)   \n",
       "4   data/Cu_O_100_5        Cu         2         O      (1, 1, 0)   \n",
       "5   data/Cu_O_100_6        Cu         2         O      (1, 1, 0)   \n",
       "6   data/Cu_O_100_7        Cu         2         O      (1, 1, 0)   \n",
       "7   data/Cu_O_100_8        Cu         2         O      (1, 0, 0)   \n",
       "8   data/Cu_O_100_9        Cu         2         O      (1, 0, 0)   \n",
       "9  data/Cu_O_100_10        Cu         2         O      (1, 0, 0)   \n",
       "\n",
       "   E adsorption (BSSE)  E sub (ads ghost)  E ads (ads ghost)  E full system  \n",
       "0          2409.283222      -47341.648962      -50263.955891  -95196.321631  \n",
       "1        -11638.113883      -83509.646796      -82921.005588 -178068.766266  \n",
       "2           632.897215      -44125.322377       -4025.968968  -47518.394130  \n",
       "3         12274.686627      -87421.473073      -92809.964171 -167956.750617  \n",
       "4         13841.186530      -89071.485326      -92285.435147 -167515.733942  \n",
       "5         -9386.445718      -86475.931476      -87026.095877 -182888.473072  \n",
       "6        -11638.113883      -83509.646796      -82921.005588 -178068.766266  \n",
       "7        -10107.443535      -86290.160382      -86199.967101 -182597.571017  \n",
       "8          1442.160954      -88251.935834       -4025.501840  -90835.276720  \n",
       "9        -10796.145444      -86251.217692      -86443.874040 -183491.237176  "
      ]
     },
     "metadata": {},
     "output_type": "display_data"
    },
    {
     "name": "stdout",
     "output_type": "stream",
     "text": [
      "*The data presented in this table is for testing the Jupyter Notebook only. The calculations were not performed\n",
      "at an acceptable level of accuracy and were not converged.\n"
     ]
    }
   ],
   "source": [
    "df = pd.DataFrame(list(zip(file_names, sub_composition, n_layers, ads_composition,  miller_indices, E_adsorption,\n",
    "                           E_sub_BSSE,E_ads_BSSE,E_full_system)),\n",
    "               columns =['File name', 'Substrate','N layers','Adsorbate','Miller Indices','E adsorption (BSSE)',\n",
    "                         'E sub (ads ghost)','E ads (ads ghost)','E full system'])\n",
    "display(df)\n",
    "print('*The data presented in this table is for testing the Jupyter Notebook only. The calculations were not performed')\n",
    "print('at an acceptable level of accuracy and were not converged.')"
   ]
  }
 ],
 "metadata": {
  "kernelspec": {
   "display_name": "Python 3 (ipykernel)",
   "language": "python",
   "name": "python3"
  },
  "language_info": {
   "codemirror_mode": {
    "name": "ipython",
    "version": 3
   },
   "file_extension": ".py",
   "mimetype": "text/x-python",
   "name": "python",
   "nbconvert_exporter": "python",
   "pygments_lexer": "ipython3",
   "version": "3.9.7"
  }
 },
 "nbformat": 4,
 "nbformat_minor": 5
}
